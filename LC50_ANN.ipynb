{
  "nbformat": 4,
  "nbformat_minor": 0,
  "metadata": {
    "colab": {
      "name": "LC50 ANN.ipynb",
      "provenance": [],
      "collapsed_sections": [],
      "authorship_tag": "ABX9TyPAjpHRjQumA0pQIii4b7ZJ"
    },
    "kernelspec": {
      "name": "python3",
      "display_name": "Python 3"
    },
    "language_info": {
      "name": "python"
    }
  },
  "cells": [
    {
      "cell_type": "code",
      "execution_count": null,
      "metadata": {
        "id": "rvlmuwHPN3Kp"
      },
      "outputs": [],
      "source": [
        "import matplotlib.pyplot as plt\n",
        "import numpy as np\n",
        "import tensorflow as tf\n",
        "from sklearn.datasets import fetch_california_housing\n",
        "from sklearn.model_selection import train_test_split\n",
        "import pandas as pd"
      ]
    },
    {
      "cell_type": "code",
      "source": [
        "data=pd.read_csv('/content/qsar_fish_toxicity.csv',sep=\";\")\n",
        "data"
      ],
      "metadata": {
        "colab": {
          "base_uri": "https://localhost:8080/",
          "height": 423
        },
        "id": "BAFtSD5KN4FN",
        "outputId": "00af7140-0bfe-4fde-91f0-713a32c43701"
      },
      "execution_count": null,
      "outputs": [
        {
          "output_type": "execute_result",
          "data": {
            "text/html": [
              "\n",
              "  <div id=\"df-90854a05-202f-4473-9133-3d1a69959189\">\n",
              "    <div class=\"colab-df-container\">\n",
              "      <div>\n",
              "<style scoped>\n",
              "    .dataframe tbody tr th:only-of-type {\n",
              "        vertical-align: middle;\n",
              "    }\n",
              "\n",
              "    .dataframe tbody tr th {\n",
              "        vertical-align: top;\n",
              "    }\n",
              "\n",
              "    .dataframe thead th {\n",
              "        text-align: right;\n",
              "    }\n",
              "</style>\n",
              "<table border=\"1\" class=\"dataframe\">\n",
              "  <thead>\n",
              "    <tr style=\"text-align: right;\">\n",
              "      <th></th>\n",
              "      <th>CIC0</th>\n",
              "      <th>SM1_Dz(Z)</th>\n",
              "      <th>GATS1i</th>\n",
              "      <th>NdsCH</th>\n",
              "      <th>NdssC</th>\n",
              "      <th>MLOGP</th>\n",
              "      <th>LC50</th>\n",
              "    </tr>\n",
              "  </thead>\n",
              "  <tbody>\n",
              "    <tr>\n",
              "      <th>0</th>\n",
              "      <td>3.260</td>\n",
              "      <td>0.829</td>\n",
              "      <td>1.676</td>\n",
              "      <td>0</td>\n",
              "      <td>1</td>\n",
              "      <td>1.453</td>\n",
              "      <td>3.770</td>\n",
              "    </tr>\n",
              "    <tr>\n",
              "      <th>1</th>\n",
              "      <td>2.189</td>\n",
              "      <td>0.580</td>\n",
              "      <td>0.863</td>\n",
              "      <td>0</td>\n",
              "      <td>0</td>\n",
              "      <td>1.348</td>\n",
              "      <td>3.115</td>\n",
              "    </tr>\n",
              "    <tr>\n",
              "      <th>2</th>\n",
              "      <td>2.125</td>\n",
              "      <td>0.638</td>\n",
              "      <td>0.831</td>\n",
              "      <td>0</td>\n",
              "      <td>0</td>\n",
              "      <td>1.348</td>\n",
              "      <td>3.531</td>\n",
              "    </tr>\n",
              "    <tr>\n",
              "      <th>3</th>\n",
              "      <td>3.027</td>\n",
              "      <td>0.331</td>\n",
              "      <td>1.472</td>\n",
              "      <td>1</td>\n",
              "      <td>0</td>\n",
              "      <td>1.807</td>\n",
              "      <td>3.510</td>\n",
              "    </tr>\n",
              "    <tr>\n",
              "      <th>4</th>\n",
              "      <td>2.094</td>\n",
              "      <td>0.827</td>\n",
              "      <td>0.860</td>\n",
              "      <td>0</td>\n",
              "      <td>0</td>\n",
              "      <td>1.886</td>\n",
              "      <td>5.390</td>\n",
              "    </tr>\n",
              "    <tr>\n",
              "      <th>...</th>\n",
              "      <td>...</td>\n",
              "      <td>...</td>\n",
              "      <td>...</td>\n",
              "      <td>...</td>\n",
              "      <td>...</td>\n",
              "      <td>...</td>\n",
              "      <td>...</td>\n",
              "    </tr>\n",
              "    <tr>\n",
              "      <th>903</th>\n",
              "      <td>2.801</td>\n",
              "      <td>0.728</td>\n",
              "      <td>2.226</td>\n",
              "      <td>0</td>\n",
              "      <td>2</td>\n",
              "      <td>0.736</td>\n",
              "      <td>3.109</td>\n",
              "    </tr>\n",
              "    <tr>\n",
              "      <th>904</th>\n",
              "      <td>3.652</td>\n",
              "      <td>0.872</td>\n",
              "      <td>0.867</td>\n",
              "      <td>2</td>\n",
              "      <td>3</td>\n",
              "      <td>3.983</td>\n",
              "      <td>4.040</td>\n",
              "    </tr>\n",
              "    <tr>\n",
              "      <th>905</th>\n",
              "      <td>3.763</td>\n",
              "      <td>0.916</td>\n",
              "      <td>0.878</td>\n",
              "      <td>0</td>\n",
              "      <td>6</td>\n",
              "      <td>2.918</td>\n",
              "      <td>4.818</td>\n",
              "    </tr>\n",
              "    <tr>\n",
              "      <th>906</th>\n",
              "      <td>2.831</td>\n",
              "      <td>1.393</td>\n",
              "      <td>1.077</td>\n",
              "      <td>0</td>\n",
              "      <td>1</td>\n",
              "      <td>0.906</td>\n",
              "      <td>5.317</td>\n",
              "    </tr>\n",
              "    <tr>\n",
              "      <th>907</th>\n",
              "      <td>4.057</td>\n",
              "      <td>1.032</td>\n",
              "      <td>1.183</td>\n",
              "      <td>1</td>\n",
              "      <td>3</td>\n",
              "      <td>4.754</td>\n",
              "      <td>8.201</td>\n",
              "    </tr>\n",
              "  </tbody>\n",
              "</table>\n",
              "<p>908 rows × 7 columns</p>\n",
              "</div>\n",
              "      <button class=\"colab-df-convert\" onclick=\"convertToInteractive('df-90854a05-202f-4473-9133-3d1a69959189')\"\n",
              "              title=\"Convert this dataframe to an interactive table.\"\n",
              "              style=\"display:none;\">\n",
              "        \n",
              "  <svg xmlns=\"http://www.w3.org/2000/svg\" height=\"24px\"viewBox=\"0 0 24 24\"\n",
              "       width=\"24px\">\n",
              "    <path d=\"M0 0h24v24H0V0z\" fill=\"none\"/>\n",
              "    <path d=\"M18.56 5.44l.94 2.06.94-2.06 2.06-.94-2.06-.94-.94-2.06-.94 2.06-2.06.94zm-11 1L8.5 8.5l.94-2.06 2.06-.94-2.06-.94L8.5 2.5l-.94 2.06-2.06.94zm10 10l.94 2.06.94-2.06 2.06-.94-2.06-.94-.94-2.06-.94 2.06-2.06.94z\"/><path d=\"M17.41 7.96l-1.37-1.37c-.4-.4-.92-.59-1.43-.59-.52 0-1.04.2-1.43.59L10.3 9.45l-7.72 7.72c-.78.78-.78 2.05 0 2.83L4 21.41c.39.39.9.59 1.41.59.51 0 1.02-.2 1.41-.59l7.78-7.78 2.81-2.81c.8-.78.8-2.07 0-2.86zM5.41 20L4 18.59l7.72-7.72 1.47 1.35L5.41 20z\"/>\n",
              "  </svg>\n",
              "      </button>\n",
              "      \n",
              "  <style>\n",
              "    .colab-df-container {\n",
              "      display:flex;\n",
              "      flex-wrap:wrap;\n",
              "      gap: 12px;\n",
              "    }\n",
              "\n",
              "    .colab-df-convert {\n",
              "      background-color: #E8F0FE;\n",
              "      border: none;\n",
              "      border-radius: 50%;\n",
              "      cursor: pointer;\n",
              "      display: none;\n",
              "      fill: #1967D2;\n",
              "      height: 32px;\n",
              "      padding: 0 0 0 0;\n",
              "      width: 32px;\n",
              "    }\n",
              "\n",
              "    .colab-df-convert:hover {\n",
              "      background-color: #E2EBFA;\n",
              "      box-shadow: 0px 1px 2px rgba(60, 64, 67, 0.3), 0px 1px 3px 1px rgba(60, 64, 67, 0.15);\n",
              "      fill: #174EA6;\n",
              "    }\n",
              "\n",
              "    [theme=dark] .colab-df-convert {\n",
              "      background-color: #3B4455;\n",
              "      fill: #D2E3FC;\n",
              "    }\n",
              "\n",
              "    [theme=dark] .colab-df-convert:hover {\n",
              "      background-color: #434B5C;\n",
              "      box-shadow: 0px 1px 3px 1px rgba(0, 0, 0, 0.15);\n",
              "      filter: drop-shadow(0px 1px 2px rgba(0, 0, 0, 0.3));\n",
              "      fill: #FFFFFF;\n",
              "    }\n",
              "  </style>\n",
              "\n",
              "      <script>\n",
              "        const buttonEl =\n",
              "          document.querySelector('#df-90854a05-202f-4473-9133-3d1a69959189 button.colab-df-convert');\n",
              "        buttonEl.style.display =\n",
              "          google.colab.kernel.accessAllowed ? 'block' : 'none';\n",
              "\n",
              "        async function convertToInteractive(key) {\n",
              "          const element = document.querySelector('#df-90854a05-202f-4473-9133-3d1a69959189');\n",
              "          const dataTable =\n",
              "            await google.colab.kernel.invokeFunction('convertToInteractive',\n",
              "                                                     [key], {});\n",
              "          if (!dataTable) return;\n",
              "\n",
              "          const docLinkHtml = 'Like what you see? Visit the ' +\n",
              "            '<a target=\"_blank\" href=https://colab.research.google.com/notebooks/data_table.ipynb>data table notebook</a>'\n",
              "            + ' to learn more about interactive tables.';\n",
              "          element.innerHTML = '';\n",
              "          dataTable['output_type'] = 'display_data';\n",
              "          await google.colab.output.renderOutput(dataTable, element);\n",
              "          const docLink = document.createElement('div');\n",
              "          docLink.innerHTML = docLinkHtml;\n",
              "          element.appendChild(docLink);\n",
              "        }\n",
              "      </script>\n",
              "    </div>\n",
              "  </div>\n",
              "  "
            ],
            "text/plain": [
              "      CIC0  SM1_Dz(Z)  GATS1i  NdsCH  NdssC  MLOGP   LC50\n",
              "0    3.260      0.829   1.676      0      1  1.453  3.770\n",
              "1    2.189      0.580   0.863      0      0  1.348  3.115\n",
              "2    2.125      0.638   0.831      0      0  1.348  3.531\n",
              "3    3.027      0.331   1.472      1      0  1.807  3.510\n",
              "4    2.094      0.827   0.860      0      0  1.886  5.390\n",
              "..     ...        ...     ...    ...    ...    ...    ...\n",
              "903  2.801      0.728   2.226      0      2  0.736  3.109\n",
              "904  3.652      0.872   0.867      2      3  3.983  4.040\n",
              "905  3.763      0.916   0.878      0      6  2.918  4.818\n",
              "906  2.831      1.393   1.077      0      1  0.906  5.317\n",
              "907  4.057      1.032   1.183      1      3  4.754  8.201\n",
              "\n",
              "[908 rows x 7 columns]"
            ]
          },
          "metadata": {},
          "execution_count": 2
        }
      ]
    },
    {
      "cell_type": "code",
      "source": [
        "x= data.iloc[:,:-1]\n",
        "y=data['LC50']"
      ],
      "metadata": {
        "id": "wZLLyIpVOCNE"
      },
      "execution_count": null,
      "outputs": []
    },
    {
      "cell_type": "code",
      "source": [
        "X_train_full, X_test, y_train_full, y_test = train_test_split(x,y,test_size=0.3,random_state=42)"
      ],
      "metadata": {
        "id": "8rRNHoLROT_E"
      },
      "execution_count": null,
      "outputs": []
    },
    {
      "cell_type": "code",
      "source": [
        "from tensorflow.keras import Model\n",
        "from tensorflow.keras.layers import Dense,Dropout\n",
        "from tensorflow.keras import Sequential\n",
        "from tensorflow.keras.losses import MeanSquaredError\n",
        "from tensorflow.keras.optimizers import Adam,SGD"
      ],
      "metadata": {
        "id": "TuXynoeCOi6M"
      },
      "execution_count": null,
      "outputs": []
    },
    {
      "cell_type": "code",
      "source": [
        "X_train_full.shape"
      ],
      "metadata": {
        "colab": {
          "base_uri": "https://localhost:8080/"
        },
        "id": "AK31X5aFCrcZ",
        "outputId": "b83eab8f-e162-4d0d-bc6c-ce0aaa613a3d"
      },
      "execution_count": null,
      "outputs": [
        {
          "output_type": "execute_result",
          "data": {
            "text/plain": [
              "(635, 6)"
            ]
          },
          "metadata": {},
          "execution_count": 6
        }
      ]
    },
    {
      "cell_type": "code",
      "source": [
        "hidden_units1 = 10\n",
        "hidden_units2 = 10\n",
        "hidden_units3 = 10\n",
        "learning_rate = 0.01\n",
        "# Creating model using the Sequential in tensorflow\n",
        "def build_model_using_sequential():\n",
        "  model = Sequential([\n",
        "    Dense(hidden_units1, kernel_initializer='normal', activation='relu',input_dim=6),\n",
        "    Dense(hidden_units2, kernel_initializer='normal', activation='relu'),\n",
        "    Dense(hidden_units3, kernel_initializer='normal', activation='relu'),\n",
        "    Dense(1, kernel_initializer='normal', activation='linear')\n",
        "  ])\n",
        "  return model\n",
        "# build the model\n",
        "model = build_model_using_sequential()\n",
        "print(model)"
      ],
      "metadata": {
        "id": "Py8mUjAzOkt7",
        "colab": {
          "base_uri": "https://localhost:8080/"
        },
        "outputId": "2417a3ac-f2e4-4da8-83f1-81b7c1655fe5"
      },
      "execution_count": null,
      "outputs": [
        {
          "output_type": "stream",
          "name": "stdout",
          "text": [
            "<keras.engine.sequential.Sequential object at 0x7f8c3825a890>\n"
          ]
        }
      ]
    },
    {
      "cell_type": "code",
      "source": [
        "model.summary()"
      ],
      "metadata": {
        "colab": {
          "base_uri": "https://localhost:8080/"
        },
        "id": "927aRqd3C6vi",
        "outputId": "43386457-7cdc-4b66-820a-cf8141d7ac45"
      },
      "execution_count": null,
      "outputs": [
        {
          "output_type": "stream",
          "name": "stdout",
          "text": [
            "Model: \"sequential\"\n",
            "_________________________________________________________________\n",
            " Layer (type)                Output Shape              Param #   \n",
            "=================================================================\n",
            " dense (Dense)               (None, 10)                70        \n",
            "                                                                 \n",
            " dense_1 (Dense)             (None, 10)                110       \n",
            "                                                                 \n",
            " dense_2 (Dense)             (None, 10)                110       \n",
            "                                                                 \n",
            " dense_3 (Dense)             (None, 1)                 11        \n",
            "                                                                 \n",
            "=================================================================\n",
            "Total params: 301\n",
            "Trainable params: 301\n",
            "Non-trainable params: 0\n",
            "_________________________________________________________________\n"
          ]
        }
      ]
    },
    {
      "cell_type": "code",
      "source": [
        "# loss function\n",
        "mse = MeanSquaredError()\n",
        "model.compile(\n",
        "    loss=mse, \n",
        "    optimizer=Adam(learning_rate=learning_rate), \n",
        "    metrics=[mse]\n",
        ")\n",
        "# train the model\n",
        "history = model.fit(\n",
        "    X_train_full, \n",
        "    y_train_full.values, \n",
        "    epochs=100, \n",
        "    batch_size=64,\n",
        "    validation_split=0.2\n",
        ")"
      ],
      "metadata": {
        "colab": {
          "base_uri": "https://localhost:8080/"
        },
        "id": "Hxj6RtzdOpFe",
        "outputId": "19c762f7-9f41-4a34-a63d-81662890e280"
      },
      "execution_count": null,
      "outputs": [
        {
          "output_type": "stream",
          "name": "stdout",
          "text": [
            "Epoch 1/100\n",
            "8/8 [==============================] - 3s 122ms/step - loss: 18.0689 - mean_squared_error: 18.0486 - val_loss: 17.6982 - val_mean_squared_error: 17.6973\n",
            "Epoch 2/100\n",
            "8/8 [==============================] - 0s 11ms/step - loss: 15.3853 - mean_squared_error: 15.3709 - val_loss: 12.2428 - val_mean_squared_error: 12.2419\n",
            "Epoch 3/100\n",
            "8/8 [==============================] - 0s 16ms/step - loss: 6.8231 - mean_squared_error: 6.7992 - val_loss: 1.4254 - val_mean_squared_error: 1.4234\n",
            "Epoch 4/100\n",
            "8/8 [==============================] - 0s 15ms/step - loss: 2.8651 - mean_squared_error: 2.8605 - val_loss: 1.9767 - val_mean_squared_error: 1.9742\n",
            "Epoch 5/100\n",
            "8/8 [==============================] - 0s 26ms/step - loss: 1.6581 - mean_squared_error: 1.6616 - val_loss: 2.1012 - val_mean_squared_error: 2.0999\n",
            "Epoch 6/100\n",
            "8/8 [==============================] - 0s 23ms/step - loss: 1.7407 - mean_squared_error: 1.7336 - val_loss: 1.2307 - val_mean_squared_error: 1.2293\n",
            "Epoch 7/100\n",
            "8/8 [==============================] - 0s 15ms/step - loss: 1.3284 - mean_squared_error: 1.3321 - val_loss: 1.3529 - val_mean_squared_error: 1.3515\n",
            "Epoch 8/100\n",
            "8/8 [==============================] - 0s 16ms/step - loss: 1.2369 - mean_squared_error: 1.2350 - val_loss: 1.2245 - val_mean_squared_error: 1.2237\n",
            "Epoch 9/100\n",
            "8/8 [==============================] - 0s 23ms/step - loss: 1.1665 - mean_squared_error: 1.1660 - val_loss: 1.1281 - val_mean_squared_error: 1.1275\n",
            "Epoch 10/100\n",
            "8/8 [==============================] - 0s 17ms/step - loss: 1.1072 - mean_squared_error: 1.1083 - val_loss: 1.1086 - val_mean_squared_error: 1.1081\n",
            "Epoch 11/100\n",
            "8/8 [==============================] - 0s 26ms/step - loss: 1.0812 - mean_squared_error: 1.0786 - val_loss: 1.0796 - val_mean_squared_error: 1.0793\n",
            "Epoch 12/100\n",
            "8/8 [==============================] - 0s 20ms/step - loss: 1.0602 - mean_squared_error: 1.0573 - val_loss: 1.0588 - val_mean_squared_error: 1.0587\n",
            "Epoch 13/100\n",
            "8/8 [==============================] - 0s 12ms/step - loss: 1.0480 - mean_squared_error: 1.0440 - val_loss: 1.0416 - val_mean_squared_error: 1.0417\n",
            "Epoch 14/100\n",
            "8/8 [==============================] - 0s 19ms/step - loss: 1.0274 - mean_squared_error: 1.0317 - val_loss: 1.0294 - val_mean_squared_error: 1.0297\n",
            "Epoch 15/100\n",
            "8/8 [==============================] - 0s 26ms/step - loss: 1.0190 - mean_squared_error: 1.0171 - val_loss: 1.0162 - val_mean_squared_error: 1.0166\n",
            "Epoch 16/100\n",
            "8/8 [==============================] - 0s 9ms/step - loss: 1.0236 - mean_squared_error: 1.0218 - val_loss: 1.0079 - val_mean_squared_error: 1.0084\n",
            "Epoch 17/100\n",
            "8/8 [==============================] - 0s 13ms/step - loss: 1.0053 - mean_squared_error: 1.0035 - val_loss: 0.9985 - val_mean_squared_error: 0.9991\n",
            "Epoch 18/100\n",
            "8/8 [==============================] - 0s 15ms/step - loss: 0.9898 - mean_squared_error: 0.9896 - val_loss: 0.9968 - val_mean_squared_error: 0.9974\n",
            "Epoch 19/100\n",
            "8/8 [==============================] - 0s 26ms/step - loss: 0.9854 - mean_squared_error: 0.9847 - val_loss: 0.9807 - val_mean_squared_error: 0.9815\n",
            "Epoch 20/100\n",
            "8/8 [==============================] - 0s 25ms/step - loss: 0.9740 - mean_squared_error: 0.9709 - val_loss: 0.9767 - val_mean_squared_error: 0.9775\n",
            "Epoch 21/100\n",
            "8/8 [==============================] - 0s 27ms/step - loss: 0.9746 - mean_squared_error: 0.9727 - val_loss: 0.9711 - val_mean_squared_error: 0.9720\n",
            "Epoch 22/100\n",
            "8/8 [==============================] - 0s 31ms/step - loss: 0.9557 - mean_squared_error: 0.9613 - val_loss: 0.9765 - val_mean_squared_error: 0.9774\n",
            "Epoch 23/100\n",
            "8/8 [==============================] - 0s 22ms/step - loss: 0.9603 - mean_squared_error: 0.9610 - val_loss: 0.9620 - val_mean_squared_error: 0.9629\n",
            "Epoch 24/100\n",
            "8/8 [==============================] - 0s 9ms/step - loss: 0.9598 - mean_squared_error: 0.9577 - val_loss: 0.9607 - val_mean_squared_error: 0.9617\n",
            "Epoch 25/100\n",
            "8/8 [==============================] - 0s 17ms/step - loss: 0.9556 - mean_squared_error: 0.9552 - val_loss: 0.9692 - val_mean_squared_error: 0.9702\n",
            "Epoch 26/100\n",
            "8/8 [==============================] - 0s 17ms/step - loss: 0.9508 - mean_squared_error: 0.9506 - val_loss: 0.9557 - val_mean_squared_error: 0.9568\n",
            "Epoch 27/100\n",
            "8/8 [==============================] - 0s 15ms/step - loss: 0.9478 - mean_squared_error: 0.9456 - val_loss: 0.9563 - val_mean_squared_error: 0.9574\n",
            "Epoch 28/100\n",
            "8/8 [==============================] - 0s 15ms/step - loss: 0.9452 - mean_squared_error: 0.9454 - val_loss: 0.9547 - val_mean_squared_error: 0.9558\n",
            "Epoch 29/100\n",
            "8/8 [==============================] - 0s 10ms/step - loss: 0.9388 - mean_squared_error: 0.9366 - val_loss: 0.9504 - val_mean_squared_error: 0.9515\n",
            "Epoch 30/100\n",
            "8/8 [==============================] - 0s 16ms/step - loss: 0.9401 - mean_squared_error: 0.9400 - val_loss: 0.9510 - val_mean_squared_error: 0.9521\n",
            "Epoch 31/100\n",
            "8/8 [==============================] - 0s 11ms/step - loss: 0.9398 - mean_squared_error: 0.9381 - val_loss: 0.9491 - val_mean_squared_error: 0.9502\n",
            "Epoch 32/100\n",
            "8/8 [==============================] - 0s 19ms/step - loss: 0.9283 - mean_squared_error: 0.9283 - val_loss: 0.9447 - val_mean_squared_error: 0.9459\n",
            "Epoch 33/100\n",
            "8/8 [==============================] - 0s 22ms/step - loss: 0.9318 - mean_squared_error: 0.9346 - val_loss: 0.9471 - val_mean_squared_error: 0.9483\n",
            "Epoch 34/100\n",
            "8/8 [==============================] - 0s 13ms/step - loss: 0.9417 - mean_squared_error: 0.9406 - val_loss: 0.9423 - val_mean_squared_error: 0.9435\n",
            "Epoch 35/100\n",
            "8/8 [==============================] - 0s 18ms/step - loss: 0.9464 - mean_squared_error: 0.9515 - val_loss: 0.9421 - val_mean_squared_error: 0.9433\n",
            "Epoch 36/100\n",
            "8/8 [==============================] - 0s 23ms/step - loss: 0.9319 - mean_squared_error: 0.9300 - val_loss: 0.9449 - val_mean_squared_error: 0.9460\n",
            "Epoch 37/100\n",
            "8/8 [==============================] - 0s 17ms/step - loss: 0.9284 - mean_squared_error: 0.9265 - val_loss: 0.9385 - val_mean_squared_error: 0.9396\n",
            "Epoch 38/100\n",
            "8/8 [==============================] - 0s 13ms/step - loss: 0.9274 - mean_squared_error: 0.9292 - val_loss: 0.9387 - val_mean_squared_error: 0.9397\n",
            "Epoch 39/100\n",
            "8/8 [==============================] - 0s 15ms/step - loss: 0.9261 - mean_squared_error: 0.9254 - val_loss: 0.9356 - val_mean_squared_error: 0.9367\n",
            "Epoch 40/100\n",
            "8/8 [==============================] - 0s 11ms/step - loss: 0.9262 - mean_squared_error: 0.9252 - val_loss: 0.9379 - val_mean_squared_error: 0.9391\n",
            "Epoch 41/100\n",
            "8/8 [==============================] - 0s 19ms/step - loss: 0.9189 - mean_squared_error: 0.9199 - val_loss: 0.9427 - val_mean_squared_error: 0.9438\n",
            "Epoch 42/100\n",
            "8/8 [==============================] - 0s 15ms/step - loss: 0.9225 - mean_squared_error: 0.9221 - val_loss: 0.9526 - val_mean_squared_error: 0.9536\n",
            "Epoch 43/100\n",
            "8/8 [==============================] - 0s 18ms/step - loss: 0.9183 - mean_squared_error: 0.9159 - val_loss: 0.9322 - val_mean_squared_error: 0.9333\n",
            "Epoch 44/100\n",
            "8/8 [==============================] - 0s 25ms/step - loss: 0.9263 - mean_squared_error: 0.9267 - val_loss: 0.9440 - val_mean_squared_error: 0.9451\n",
            "Epoch 45/100\n",
            "8/8 [==============================] - 0s 18ms/step - loss: 0.9212 - mean_squared_error: 0.9194 - val_loss: 0.9256 - val_mean_squared_error: 0.9267\n",
            "Epoch 46/100\n",
            "8/8 [==============================] - 0s 14ms/step - loss: 0.9471 - mean_squared_error: 0.9478 - val_loss: 0.9488 - val_mean_squared_error: 0.9498\n",
            "Epoch 47/100\n",
            "8/8 [==============================] - 0s 18ms/step - loss: 0.9221 - mean_squared_error: 0.9230 - val_loss: 0.9237 - val_mean_squared_error: 0.9248\n",
            "Epoch 48/100\n",
            "8/8 [==============================] - 0s 16ms/step - loss: 0.9110 - mean_squared_error: 0.9113 - val_loss: 0.9233 - val_mean_squared_error: 0.9243\n",
            "Epoch 49/100\n",
            "8/8 [==============================] - 0s 23ms/step - loss: 0.9103 - mean_squared_error: 0.9087 - val_loss: 0.9259 - val_mean_squared_error: 0.9269\n",
            "Epoch 50/100\n",
            "8/8 [==============================] - 0s 22ms/step - loss: 0.9083 - mean_squared_error: 0.9094 - val_loss: 0.9185 - val_mean_squared_error: 0.9196\n",
            "Epoch 51/100\n",
            "8/8 [==============================] - 0s 22ms/step - loss: 0.9089 - mean_squared_error: 0.9086 - val_loss: 0.9276 - val_mean_squared_error: 0.9286\n",
            "Epoch 52/100\n",
            "8/8 [==============================] - 0s 18ms/step - loss: 0.9090 - mean_squared_error: 0.9089 - val_loss: 0.9171 - val_mean_squared_error: 0.9182\n",
            "Epoch 53/100\n",
            "8/8 [==============================] - 0s 16ms/step - loss: 0.9168 - mean_squared_error: 0.9143 - val_loss: 0.9321 - val_mean_squared_error: 0.9331\n",
            "Epoch 54/100\n",
            "8/8 [==============================] - 0s 16ms/step - loss: 0.9480 - mean_squared_error: 0.9454 - val_loss: 0.9642 - val_mean_squared_error: 0.9653\n",
            "Epoch 55/100\n",
            "8/8 [==============================] - 0s 22ms/step - loss: 0.9472 - mean_squared_error: 0.9460 - val_loss: 0.9520 - val_mean_squared_error: 0.9530\n",
            "Epoch 56/100\n",
            "8/8 [==============================] - 0s 17ms/step - loss: 0.9142 - mean_squared_error: 0.9120 - val_loss: 0.9148 - val_mean_squared_error: 0.9158\n",
            "Epoch 57/100\n",
            "8/8 [==============================] - 0s 15ms/step - loss: 0.9130 - mean_squared_error: 0.9115 - val_loss: 0.9112 - val_mean_squared_error: 0.9123\n",
            "Epoch 58/100\n",
            "8/8 [==============================] - 0s 18ms/step - loss: 0.9102 - mean_squared_error: 0.9091 - val_loss: 0.9178 - val_mean_squared_error: 0.9187\n",
            "Epoch 59/100\n",
            "8/8 [==============================] - 0s 26ms/step - loss: 0.9059 - mean_squared_error: 0.9058 - val_loss: 0.9098 - val_mean_squared_error: 0.9108\n",
            "Epoch 60/100\n",
            "8/8 [==============================] - 0s 24ms/step - loss: 0.9041 - mean_squared_error: 0.9026 - val_loss: 0.9348 - val_mean_squared_error: 0.9358\n",
            "Epoch 61/100\n",
            "8/8 [==============================] - 0s 20ms/step - loss: 0.9081 - mean_squared_error: 0.9059 - val_loss: 0.9208 - val_mean_squared_error: 0.9219\n",
            "Epoch 62/100\n",
            "8/8 [==============================] - 0s 15ms/step - loss: 0.9088 - mean_squared_error: 0.9139 - val_loss: 0.9323 - val_mean_squared_error: 0.9333\n",
            "Epoch 63/100\n",
            "8/8 [==============================] - 0s 13ms/step - loss: 0.9312 - mean_squared_error: 0.9297 - val_loss: 0.9186 - val_mean_squared_error: 0.9195\n",
            "Epoch 64/100\n",
            "8/8 [==============================] - 0s 17ms/step - loss: 0.9100 - mean_squared_error: 0.9138 - val_loss: 0.9057 - val_mean_squared_error: 0.9067\n",
            "Epoch 65/100\n",
            "8/8 [==============================] - 0s 16ms/step - loss: 0.9108 - mean_squared_error: 0.9113 - val_loss: 0.9104 - val_mean_squared_error: 0.9114\n",
            "Epoch 66/100\n",
            "8/8 [==============================] - 0s 11ms/step - loss: 0.9162 - mean_squared_error: 0.9199 - val_loss: 0.9200 - val_mean_squared_error: 0.9209\n",
            "Epoch 67/100\n",
            "8/8 [==============================] - 0s 26ms/step - loss: 0.9080 - mean_squared_error: 0.9058 - val_loss: 0.9028 - val_mean_squared_error: 0.9038\n",
            "Epoch 68/100\n",
            "8/8 [==============================] - 0s 13ms/step - loss: 0.9120 - mean_squared_error: 0.9117 - val_loss: 0.9150 - val_mean_squared_error: 0.9161\n",
            "Epoch 69/100\n",
            "8/8 [==============================] - 0s 12ms/step - loss: 0.9260 - mean_squared_error: 0.9305 - val_loss: 0.9536 - val_mean_squared_error: 0.9545\n",
            "Epoch 70/100\n",
            "8/8 [==============================] - 0s 16ms/step - loss: 0.9159 - mean_squared_error: 0.9133 - val_loss: 0.9141 - val_mean_squared_error: 0.9151\n",
            "Epoch 71/100\n",
            "8/8 [==============================] - 0s 15ms/step - loss: 0.9158 - mean_squared_error: 0.9167 - val_loss: 0.9517 - val_mean_squared_error: 0.9526\n",
            "Epoch 72/100\n",
            "8/8 [==============================] - 0s 18ms/step - loss: 0.9210 - mean_squared_error: 0.9232 - val_loss: 0.9043 - val_mean_squared_error: 0.9053\n",
            "Epoch 73/100\n",
            "8/8 [==============================] - 0s 12ms/step - loss: 0.9033 - mean_squared_error: 0.9018 - val_loss: 0.9045 - val_mean_squared_error: 0.9055\n",
            "Epoch 74/100\n",
            "8/8 [==============================] - 0s 17ms/step - loss: 0.8958 - mean_squared_error: 0.8953 - val_loss: 0.9035 - val_mean_squared_error: 0.9044\n",
            "Epoch 75/100\n",
            "8/8 [==============================] - 0s 29ms/step - loss: 0.9025 - mean_squared_error: 0.9015 - val_loss: 0.9023 - val_mean_squared_error: 0.9033\n",
            "Epoch 76/100\n",
            "8/8 [==============================] - 0s 27ms/step - loss: 0.9207 - mean_squared_error: 0.9200 - val_loss: 0.9174 - val_mean_squared_error: 0.9183\n",
            "Epoch 77/100\n",
            "8/8 [==============================] - 0s 17ms/step - loss: 0.9086 - mean_squared_error: 0.9078 - val_loss: 0.8986 - val_mean_squared_error: 0.8996\n",
            "Epoch 78/100\n",
            "8/8 [==============================] - 0s 18ms/step - loss: 0.9238 - mean_squared_error: 0.9223 - val_loss: 0.8960 - val_mean_squared_error: 0.8970\n",
            "Epoch 79/100\n",
            "8/8 [==============================] - 0s 9ms/step - loss: 0.9331 - mean_squared_error: 0.9340 - val_loss: 0.9168 - val_mean_squared_error: 0.9178\n",
            "Epoch 80/100\n",
            "8/8 [==============================] - 0s 27ms/step - loss: 0.8961 - mean_squared_error: 0.8987 - val_loss: 0.9085 - val_mean_squared_error: 0.9096\n",
            "Epoch 81/100\n",
            "8/8 [==============================] - 0s 16ms/step - loss: 0.9529 - mean_squared_error: 0.9564 - val_loss: 0.9511 - val_mean_squared_error: 0.9519\n",
            "Epoch 82/100\n",
            "8/8 [==============================] - 0s 19ms/step - loss: 0.9195 - mean_squared_error: 0.9173 - val_loss: 0.8982 - val_mean_squared_error: 0.8991\n",
            "Epoch 83/100\n",
            "8/8 [==============================] - 0s 17ms/step - loss: 0.9002 - mean_squared_error: 0.8980 - val_loss: 0.9005 - val_mean_squared_error: 0.9014\n",
            "Epoch 84/100\n",
            "8/8 [==============================] - 0s 19ms/step - loss: 0.8954 - mean_squared_error: 0.8941 - val_loss: 0.9042 - val_mean_squared_error: 0.9051\n",
            "Epoch 85/100\n",
            "8/8 [==============================] - 0s 24ms/step - loss: 0.8994 - mean_squared_error: 0.8993 - val_loss: 0.9040 - val_mean_squared_error: 0.9050\n",
            "Epoch 86/100\n",
            "8/8 [==============================] - 0s 21ms/step - loss: 0.9003 - mean_squared_error: 0.9015 - val_loss: 0.9102 - val_mean_squared_error: 0.9111\n",
            "Epoch 87/100\n",
            "8/8 [==============================] - 0s 26ms/step - loss: 0.8955 - mean_squared_error: 0.8988 - val_loss: 0.8983 - val_mean_squared_error: 0.8993\n",
            "Epoch 88/100\n",
            "8/8 [==============================] - 0s 11ms/step - loss: 0.9131 - mean_squared_error: 0.9151 - val_loss: 0.9223 - val_mean_squared_error: 0.9233\n",
            "Epoch 89/100\n",
            "8/8 [==============================] - 0s 17ms/step - loss: 0.9393 - mean_squared_error: 0.9431 - val_loss: 0.9763 - val_mean_squared_error: 0.9772\n",
            "Epoch 90/100\n",
            "8/8 [==============================] - 0s 21ms/step - loss: 0.8943 - mean_squared_error: 0.8931 - val_loss: 0.9159 - val_mean_squared_error: 0.9169\n",
            "Epoch 91/100\n",
            "8/8 [==============================] - 0s 19ms/step - loss: 0.8942 - mean_squared_error: 0.8940 - val_loss: 0.9326 - val_mean_squared_error: 0.9335\n",
            "Epoch 92/100\n",
            "8/8 [==============================] - 0s 16ms/step - loss: 0.9162 - mean_squared_error: 0.9141 - val_loss: 0.9403 - val_mean_squared_error: 0.9413\n",
            "Epoch 93/100\n",
            "8/8 [==============================] - 0s 19ms/step - loss: 0.9322 - mean_squared_error: 0.9343 - val_loss: 0.9411 - val_mean_squared_error: 0.9419\n",
            "Epoch 94/100\n",
            "8/8 [==============================] - 0s 14ms/step - loss: 0.8864 - mean_squared_error: 0.8850 - val_loss: 0.9061 - val_mean_squared_error: 0.9071\n",
            "Epoch 95/100\n",
            "8/8 [==============================] - 0s 12ms/step - loss: 0.9004 - mean_squared_error: 0.8999 - val_loss: 0.8996 - val_mean_squared_error: 0.9005\n",
            "Epoch 96/100\n",
            "8/8 [==============================] - 0s 24ms/step - loss: 0.8921 - mean_squared_error: 0.8952 - val_loss: 0.8996 - val_mean_squared_error: 0.9006\n",
            "Epoch 97/100\n",
            "8/8 [==============================] - 0s 13ms/step - loss: 0.8957 - mean_squared_error: 0.8959 - val_loss: 0.8957 - val_mean_squared_error: 0.8966\n",
            "Epoch 98/100\n",
            "8/8 [==============================] - 0s 20ms/step - loss: 0.9044 - mean_squared_error: 0.9024 - val_loss: 0.9114 - val_mean_squared_error: 0.9124\n",
            "Epoch 99/100\n",
            "8/8 [==============================] - 0s 23ms/step - loss: 0.9076 - mean_squared_error: 0.9089 - val_loss: 0.9366 - val_mean_squared_error: 0.9375\n",
            "Epoch 100/100\n",
            "8/8 [==============================] - 0s 13ms/step - loss: 0.9014 - mean_squared_error: 0.8996 - val_loss: 0.9037 - val_mean_squared_error: 0.9046\n"
          ]
        }
      ]
    },
    {
      "cell_type": "code",
      "source": [
        "model.evaluate(X_test,y_test)"
      ],
      "metadata": {
        "colab": {
          "base_uri": "https://localhost:8080/"
        },
        "id": "DGeKYyQAOrik",
        "outputId": "45033b69-c53e-4bfb-bc79-64839d6244ba"
      },
      "execution_count": null,
      "outputs": [
        {
          "output_type": "stream",
          "name": "stdout",
          "text": [
            "9/9 [==============================] - 0s 5ms/step - loss: 0.9347 - mean_squared_error: 0.9013\n"
          ]
        },
        {
          "output_type": "execute_result",
          "data": {
            "text/plain": [
              "[0.9346744418144226, 0.901275634765625]"
            ]
          },
          "metadata": {},
          "execution_count": 10
        }
      ]
    },
    {
      "cell_type": "code",
      "source": [
        "pd.DataFrame(history.history)"
      ],
      "metadata": {
        "id": "Ins_iuurQtrp",
        "colab": {
          "base_uri": "https://localhost:8080/",
          "height": 423
        },
        "outputId": "96723121-14a4-435a-c8a0-338d70769394"
      },
      "execution_count": null,
      "outputs": [
        {
          "output_type": "execute_result",
          "data": {
            "text/html": [
              "\n",
              "  <div id=\"df-3cc431db-8e6f-4241-b4e8-962c04f53c09\">\n",
              "    <div class=\"colab-df-container\">\n",
              "      <div>\n",
              "<style scoped>\n",
              "    .dataframe tbody tr th:only-of-type {\n",
              "        vertical-align: middle;\n",
              "    }\n",
              "\n",
              "    .dataframe tbody tr th {\n",
              "        vertical-align: top;\n",
              "    }\n",
              "\n",
              "    .dataframe thead th {\n",
              "        text-align: right;\n",
              "    }\n",
              "</style>\n",
              "<table border=\"1\" class=\"dataframe\">\n",
              "  <thead>\n",
              "    <tr style=\"text-align: right;\">\n",
              "      <th></th>\n",
              "      <th>loss</th>\n",
              "      <th>mean_squared_error</th>\n",
              "      <th>val_loss</th>\n",
              "      <th>val_mean_squared_error</th>\n",
              "    </tr>\n",
              "  </thead>\n",
              "  <tbody>\n",
              "    <tr>\n",
              "      <th>0</th>\n",
              "      <td>18.068876</td>\n",
              "      <td>18.048632</td>\n",
              "      <td>17.698154</td>\n",
              "      <td>17.697281</td>\n",
              "    </tr>\n",
              "    <tr>\n",
              "      <th>1</th>\n",
              "      <td>15.385293</td>\n",
              "      <td>15.370893</td>\n",
              "      <td>12.242814</td>\n",
              "      <td>12.241856</td>\n",
              "    </tr>\n",
              "    <tr>\n",
              "      <th>2</th>\n",
              "      <td>6.823082</td>\n",
              "      <td>6.799212</td>\n",
              "      <td>1.425374</td>\n",
              "      <td>1.423391</td>\n",
              "    </tr>\n",
              "    <tr>\n",
              "      <th>3</th>\n",
              "      <td>2.865134</td>\n",
              "      <td>2.860529</td>\n",
              "      <td>1.976655</td>\n",
              "      <td>1.974150</td>\n",
              "    </tr>\n",
              "    <tr>\n",
              "      <th>4</th>\n",
              "      <td>1.658115</td>\n",
              "      <td>1.661557</td>\n",
              "      <td>2.101177</td>\n",
              "      <td>2.099913</td>\n",
              "    </tr>\n",
              "    <tr>\n",
              "      <th>...</th>\n",
              "      <td>...</td>\n",
              "      <td>...</td>\n",
              "      <td>...</td>\n",
              "      <td>...</td>\n",
              "    </tr>\n",
              "    <tr>\n",
              "      <th>95</th>\n",
              "      <td>0.892143</td>\n",
              "      <td>0.895186</td>\n",
              "      <td>0.899628</td>\n",
              "      <td>0.900574</td>\n",
              "    </tr>\n",
              "    <tr>\n",
              "      <th>96</th>\n",
              "      <td>0.895671</td>\n",
              "      <td>0.895926</td>\n",
              "      <td>0.895675</td>\n",
              "      <td>0.896607</td>\n",
              "    </tr>\n",
              "    <tr>\n",
              "      <th>97</th>\n",
              "      <td>0.904404</td>\n",
              "      <td>0.902358</td>\n",
              "      <td>0.911430</td>\n",
              "      <td>0.912387</td>\n",
              "    </tr>\n",
              "    <tr>\n",
              "      <th>98</th>\n",
              "      <td>0.907576</td>\n",
              "      <td>0.908868</td>\n",
              "      <td>0.936643</td>\n",
              "      <td>0.937473</td>\n",
              "    </tr>\n",
              "    <tr>\n",
              "      <th>99</th>\n",
              "      <td>0.901399</td>\n",
              "      <td>0.899582</td>\n",
              "      <td>0.903665</td>\n",
              "      <td>0.904645</td>\n",
              "    </tr>\n",
              "  </tbody>\n",
              "</table>\n",
              "<p>100 rows × 4 columns</p>\n",
              "</div>\n",
              "      <button class=\"colab-df-convert\" onclick=\"convertToInteractive('df-3cc431db-8e6f-4241-b4e8-962c04f53c09')\"\n",
              "              title=\"Convert this dataframe to an interactive table.\"\n",
              "              style=\"display:none;\">\n",
              "        \n",
              "  <svg xmlns=\"http://www.w3.org/2000/svg\" height=\"24px\"viewBox=\"0 0 24 24\"\n",
              "       width=\"24px\">\n",
              "    <path d=\"M0 0h24v24H0V0z\" fill=\"none\"/>\n",
              "    <path d=\"M18.56 5.44l.94 2.06.94-2.06 2.06-.94-2.06-.94-.94-2.06-.94 2.06-2.06.94zm-11 1L8.5 8.5l.94-2.06 2.06-.94-2.06-.94L8.5 2.5l-.94 2.06-2.06.94zm10 10l.94 2.06.94-2.06 2.06-.94-2.06-.94-.94-2.06-.94 2.06-2.06.94z\"/><path d=\"M17.41 7.96l-1.37-1.37c-.4-.4-.92-.59-1.43-.59-.52 0-1.04.2-1.43.59L10.3 9.45l-7.72 7.72c-.78.78-.78 2.05 0 2.83L4 21.41c.39.39.9.59 1.41.59.51 0 1.02-.2 1.41-.59l7.78-7.78 2.81-2.81c.8-.78.8-2.07 0-2.86zM5.41 20L4 18.59l7.72-7.72 1.47 1.35L5.41 20z\"/>\n",
              "  </svg>\n",
              "      </button>\n",
              "      \n",
              "  <style>\n",
              "    .colab-df-container {\n",
              "      display:flex;\n",
              "      flex-wrap:wrap;\n",
              "      gap: 12px;\n",
              "    }\n",
              "\n",
              "    .colab-df-convert {\n",
              "      background-color: #E8F0FE;\n",
              "      border: none;\n",
              "      border-radius: 50%;\n",
              "      cursor: pointer;\n",
              "      display: none;\n",
              "      fill: #1967D2;\n",
              "      height: 32px;\n",
              "      padding: 0 0 0 0;\n",
              "      width: 32px;\n",
              "    }\n",
              "\n",
              "    .colab-df-convert:hover {\n",
              "      background-color: #E2EBFA;\n",
              "      box-shadow: 0px 1px 2px rgba(60, 64, 67, 0.3), 0px 1px 3px 1px rgba(60, 64, 67, 0.15);\n",
              "      fill: #174EA6;\n",
              "    }\n",
              "\n",
              "    [theme=dark] .colab-df-convert {\n",
              "      background-color: #3B4455;\n",
              "      fill: #D2E3FC;\n",
              "    }\n",
              "\n",
              "    [theme=dark] .colab-df-convert:hover {\n",
              "      background-color: #434B5C;\n",
              "      box-shadow: 0px 1px 3px 1px rgba(0, 0, 0, 0.15);\n",
              "      filter: drop-shadow(0px 1px 2px rgba(0, 0, 0, 0.3));\n",
              "      fill: #FFFFFF;\n",
              "    }\n",
              "  </style>\n",
              "\n",
              "      <script>\n",
              "        const buttonEl =\n",
              "          document.querySelector('#df-3cc431db-8e6f-4241-b4e8-962c04f53c09 button.colab-df-convert');\n",
              "        buttonEl.style.display =\n",
              "          google.colab.kernel.accessAllowed ? 'block' : 'none';\n",
              "\n",
              "        async function convertToInteractive(key) {\n",
              "          const element = document.querySelector('#df-3cc431db-8e6f-4241-b4e8-962c04f53c09');\n",
              "          const dataTable =\n",
              "            await google.colab.kernel.invokeFunction('convertToInteractive',\n",
              "                                                     [key], {});\n",
              "          if (!dataTable) return;\n",
              "\n",
              "          const docLinkHtml = 'Like what you see? Visit the ' +\n",
              "            '<a target=\"_blank\" href=https://colab.research.google.com/notebooks/data_table.ipynb>data table notebook</a>'\n",
              "            + ' to learn more about interactive tables.';\n",
              "          element.innerHTML = '';\n",
              "          dataTable['output_type'] = 'display_data';\n",
              "          await google.colab.output.renderOutput(dataTable, element);\n",
              "          const docLink = document.createElement('div');\n",
              "          docLink.innerHTML = docLinkHtml;\n",
              "          element.appendChild(docLink);\n",
              "        }\n",
              "      </script>\n",
              "    </div>\n",
              "  </div>\n",
              "  "
            ],
            "text/plain": [
              "         loss  mean_squared_error   val_loss  val_mean_squared_error\n",
              "0   18.068876           18.048632  17.698154               17.697281\n",
              "1   15.385293           15.370893  12.242814               12.241856\n",
              "2    6.823082            6.799212   1.425374                1.423391\n",
              "3    2.865134            2.860529   1.976655                1.974150\n",
              "4    1.658115            1.661557   2.101177                2.099913\n",
              "..        ...                 ...        ...                     ...\n",
              "95   0.892143            0.895186   0.899628                0.900574\n",
              "96   0.895671            0.895926   0.895675                0.896607\n",
              "97   0.904404            0.902358   0.911430                0.912387\n",
              "98   0.907576            0.908868   0.936643                0.937473\n",
              "99   0.901399            0.899582   0.903665                0.904645\n",
              "\n",
              "[100 rows x 4 columns]"
            ]
          },
          "metadata": {},
          "execution_count": 16
        }
      ]
    },
    {
      "cell_type": "code",
      "source": [
        "pd.DataFrame(history.history).plot(figsize=(8, 5))\n",
        "plt.grid(True)\n",
        "plt.gca().set_ylim(0, 5)\n",
        "plt.show()"
      ],
      "metadata": {
        "colab": {
          "base_uri": "https://localhost:8080/",
          "height": 324
        },
        "id": "yUl9a0kWD6HZ",
        "outputId": "4344d563-255f-4163-e582-cf2a85f75d1b"
      },
      "execution_count": null,
      "outputs": [
        {
          "output_type": "display_data",
          "data": {
            "image/png": "[encoded data removed]",
            "text/plain": [
              "<Figure size 576x360 with 1 Axes>"
            ]
          },
          "metadata": {
            "needs_background": "light"
          }
        }
      ]
    },
    {
      "cell_type": "code",
      "metadata": {
        "id": "DXMsCUOHT1DS"
      },
      "source": [
        "import time\n",
        "import os\n",
        "\n",
        "def saveModel_path(model_dir=\"SAVED_MODELS\"):\n",
        "    os.makedirs(model_dir, exist_ok=True)\n",
        "    fileName = time.strftime(\"Model_%Y_%m_%d_%H_%M_%S_.h5\")    \n",
        "    model_path = os.path.join(model_dir, fileName)\n",
        "    print(f\"your model will be saved at the following location\\n{model_path}\")\n",
        "    return model_path\n"
      ],
      "execution_count": null,
      "outputs": []
    },
    {
      "cell_type": "code",
      "source": [
        "UNIQUE_PATH = model.save(saveModel_path())"
      ],
      "metadata": {
        "colab": {
          "base_uri": "https://localhost:8080/"
        },
        "id": "wp4ZM1udR5K1",
        "outputId": "c3f74b4d-4c43-4b82-e26d-5ea27e1b9036"
      },
      "execution_count": null,
      "outputs": [
        {
          "output_type": "stream",
          "name": "stdout",
          "text": [
            "your model will be saved at the following location\n",
            "SAVED_MODELS/Model_2022_02_08_11_17_41_.h5\n"
          ]
        }
      ]
    },
    {
      "cell_type": "code",
      "source": [
        "loaded_model = tf.keras.models.load_model(\"SAVED_MODELS/Model_2022_02_08_11_17_41_.h5\", compile=False)"
      ],
      "metadata": {
        "id": "zLqTRiTXR-lh"
      },
      "execution_count": null,
      "outputs": []
    },
    {
      "cell_type": "code",
      "source": [
        "loaded_model.summary()"
      ],
      "metadata": {
        "colab": {
          "base_uri": "https://localhost:8080/"
        },
        "id": "oGX4SuXDS2d1",
        "outputId": "a9049172-4656-4cea-c428-c30e0dcca635"
      },
      "execution_count": null,
      "outputs": [
        {
          "output_type": "stream",
          "name": "stdout",
          "text": [
            "Model: \"sequential\"\n",
            "_________________________________________________________________\n",
            " Layer (type)                Output Shape              Param #   \n",
            "=================================================================\n",
            " dense (Dense)               (None, 10)                70        \n",
            "                                                                 \n",
            " dense_1 (Dense)             (None, 10)                110       \n",
            "                                                                 \n",
            " dense_2 (Dense)             (None, 10)                110       \n",
            "                                                                 \n",
            " dense_3 (Dense)             (None, 1)                 11        \n",
            "                                                                 \n",
            "=================================================================\n",
            "Total params: 301\n",
            "Trainable params: 301\n",
            "Non-trainable params: 0\n",
            "_________________________________________________________________\n"
          ]
        }
      ]
    },
    {
      "cell_type": "code",
      "source": [
        "loaded_model.predict([[3.260,\t0.829,\t1.676,\t0\t,1\t,1.453]])"
      ],
      "metadata": {
        "colab": {
          "base_uri": "https://localhost:8080/"
        },
        "id": "sNVcwoIOUhJB",
        "outputId": "4029896f-5ff4-4bc4-d19a-a0da1aea4005"
      },
      "execution_count": null,
      "outputs": [
        {
          "output_type": "execute_result",
          "data": {
            "text/plain": [
              "array([[3.7895837]], dtype=float32)"
            ]
          },
          "metadata": {},
          "execution_count": 22
        }
      ]
    }
  ]
}